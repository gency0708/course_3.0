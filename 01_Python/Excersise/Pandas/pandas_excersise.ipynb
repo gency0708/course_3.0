{
  "cells": [
    {
      "cell_type": "code",
      "execution_count": 1,
      "id": "1ad71161",
      "metadata": {
        "id": "1ad71161"
      },
      "outputs": [],
      "source": [
        "import numpy as np\n",
        "import pandas as pd\n",
        "import random"
      ]
    },
    {
      "cell_type": "markdown",
      "id": "8685cbb3",
      "metadata": {
        "id": "8685cbb3"
      },
      "source": [
        "請從給定的網址讀取本次測驗的資料集：https://github.com/TA-aiacademy/course_3.0/releases/download/Python/housing.csv"
      ]
    },
    {
      "cell_type": "code",
      "execution_count": 2,
      "id": "08f684a7",
      "metadata": {
        "id": "08f684a7"
      },
      "outputs": [],
      "source": [
        "url = \"https://github.com/TA-aiacademy/course_3.0/releases/download/Python/housing.csv\"\n",
        "df = pd.read_csv(url)\n"
      ]
    },
    {
      "cell_type": "markdown",
      "id": "52974cba",
      "metadata": {
        "id": "52974cba"
      },
      "source": [
        "首先，先查看整份資料集相關資訊。  \n",
        "hint：info"
      ]
    },
    {
      "cell_type": "code",
      "execution_count": 3,
      "id": "ff234199",
      "metadata": {
        "colab": {
          "base_uri": "https://localhost:8080/"
        },
        "id": "ff234199",
        "outputId": "a429eab9-8982-4f3a-d5ae-54431198e558"
      },
      "outputs": [
        {
          "output_type": "stream",
          "name": "stdout",
          "text": [
            "<class 'pandas.core.frame.DataFrame'>\n",
            "RangeIndex: 19743 entries, 0 to 19742\n",
            "Data columns (total 11 columns):\n",
            " #   Column              Non-Null Count  Dtype  \n",
            "---  ------              --------------  -----  \n",
            " 0   longitude           19405 non-null  float64\n",
            " 1   latitude            19382 non-null  float64\n",
            " 2   housing_median_age  19743 non-null  float64\n",
            " 3   total_rooms         19743 non-null  float64\n",
            " 4   total_bedrooms      19743 non-null  float64\n",
            " 5   population          19743 non-null  float64\n",
            " 6   households          19743 non-null  float64\n",
            " 7   median_income       19743 non-null  float64\n",
            " 8   median_house_value  19743 non-null  float64\n",
            " 9   ocean_proximity     19575 non-null  object \n",
            " 10  level               19743 non-null  object \n",
            "dtypes: float64(9), object(2)\n",
            "memory usage: 1.7+ MB\n"
          ]
        }
      ],
      "source": [
        "df.info()"
      ]
    },
    {
      "cell_type": "markdown",
      "id": "e37beff5",
      "metadata": {
        "id": "e37beff5"
      },
      "source": [
        "從上面可以看出，longitude、latitude 和 ocean_proximity 具有缺值。  \n",
        "接下來，試著印出資料集的前 8 筆資料。"
      ]
    },
    {
      "cell_type": "code",
      "execution_count": 4,
      "id": "1f3717f1",
      "metadata": {
        "colab": {
          "base_uri": "https://localhost:8080/"
        },
        "id": "1f3717f1",
        "outputId": "65910d29-5108-4b9f-d875-eb9b2a1da860"
      },
      "outputs": [
        {
          "output_type": "stream",
          "name": "stdout",
          "text": [
            "   longitude  latitude  housing_median_age  total_rooms  total_bedrooms  \\\n",
            "0    -118.38     33.80                36.0       4421.0           702.0   \n",
            "1    -122.27     37.43                33.0       1601.0           223.0   \n",
            "2    -118.41     33.75                 4.0        311.0            51.0   \n",
            "3    -118.33     33.77                33.0       4244.0           595.0   \n",
            "4    -118.32     33.75                33.0       2996.0           398.0   \n",
            "5    -118.32     33.75                37.0       1080.0           135.0   \n",
            "6    -118.32     33.74                24.0       6097.0           794.0   \n",
            "7    -118.32     33.77                37.0        627.0            95.0   \n",
            "\n",
            "   population  households  median_income  median_house_value ocean_proximity  \\\n",
            "0      1433.0       624.0         8.0838            500001.0      NEAR OCEAN   \n",
            "1       629.0       215.0        15.0001            500001.0      NEAR OCEAN   \n",
            "2       128.0        46.0         9.8091            500001.0      NEAR OCEAN   \n",
            "3      1534.0       557.0         9.8214            500001.0      NEAR OCEAN   \n",
            "4      1048.0       387.0         9.2670            500001.0      NEAR OCEAN   \n",
            "5       366.0       142.0        11.6677            500001.0      NEAR OCEAN   \n",
            "6      2248.0       806.0        10.1357            500001.0      NEAR OCEAN   \n",
            "7       259.0       106.0         6.8870            500001.0       <1H OCEAN   \n",
            "\n",
            "  level  \n",
            "0     H  \n",
            "1     H  \n",
            "2     H  \n",
            "3     H  \n",
            "4     H  \n",
            "5     H  \n",
            "6     H  \n",
            "7     H  \n"
          ]
        }
      ],
      "source": [
        "print(df.head(8))"
      ]
    },
    {
      "cell_type": "markdown",
      "id": "54437801",
      "metadata": {
        "id": "54437801"
      },
      "source": [
        "再來，試著檢查資料集的大小 (形狀)，了解資料及共有幾筆資料和幾個欄位。"
      ]
    },
    {
      "cell_type": "code",
      "execution_count": 5,
      "id": "df45fe90",
      "metadata": {
        "colab": {
          "base_uri": "https://localhost:8080/"
        },
        "id": "df45fe90",
        "outputId": "aee4346b-6ffc-40fa-f962-bdd656870d2a"
      },
      "outputs": [
        {
          "output_type": "stream",
          "name": "stdout",
          "text": [
            "資料集共有 19743 筆資料和 11 個欄位。\n"
          ]
        }
      ],
      "source": [
        "# 獲取資料集的行數和列數\n",
        "rows, columns = df.shape\n",
        "\n",
        "# 輸出結果\n",
        "print(\"資料集共有 {} 筆資料和 {} 個欄位。\".format(rows, columns))"
      ]
    },
    {
      "cell_type": "markdown",
      "id": "519ba1d8",
      "metadata": {
        "id": "519ba1d8"
      },
      "source": [
        "觀察了資料後，第一步，我們要先處理缺失值。  \n",
        "首先先找出含有 na 的全部資料。"
      ]
    },
    {
      "cell_type": "code",
      "execution_count": 6,
      "id": "e470ea0e",
      "metadata": {
        "colab": {
          "base_uri": "https://localhost:8080/"
        },
        "id": "e470ea0e",
        "outputId": "3f2f34c5-a45e-4560-b49d-de310e112cf8"
      },
      "outputs": [
        {
          "output_type": "stream",
          "name": "stdout",
          "text": [
            "       longitude  latitude  housing_median_age  total_rooms  total_bedrooms  \\\n",
            "64       -121.98       NaN                19.0        755.0            93.0   \n",
            "84       -118.49       NaN                31.0       4066.0           951.0   \n",
            "90           NaN     37.79                52.0       1817.0           535.0   \n",
            "99           NaN     37.44                35.0       1140.0           193.0   \n",
            "114          NaN     37.50                46.0         30.0             4.0   \n",
            "...          ...       ...                 ...          ...             ...   \n",
            "19625    -119.77       NaN                39.0       1287.0           332.0   \n",
            "19640    -119.20       NaN                32.0       1355.0           363.0   \n",
            "19649    -114.63       NaN                15.0       1448.0           378.0   \n",
            "19670    -119.00       NaN                40.0        850.0           227.0   \n",
            "19742    -122.74       NaN                16.0        255.0            73.0   \n",
            "\n",
            "       population  households  median_income  median_house_value  \\\n",
            "64          267.0        99.0        15.0000            500001.0   \n",
            "84         1532.0       868.0         4.8125            500001.0   \n",
            "90          800.0       487.0         3.9750            500001.0   \n",
            "99          486.0       199.0         4.6908            500001.0   \n",
            "114          13.0         5.0        15.0001            500001.0   \n",
            "...           ...         ...            ...                 ...   \n",
            "19625      1386.0       306.0         1.5227             46900.0   \n",
            "19640      1427.0       384.0         1.3444             45600.0   \n",
            "19649       949.0       300.0         0.8585             45000.0   \n",
            "19670       764.0       186.0         0.9407             43600.0   \n",
            "19742        85.0        38.0         1.6607             14999.0   \n",
            "\n",
            "      ocean_proximity level  \n",
            "64          <1H OCEAN     H  \n",
            "84          <1H OCEAN     H  \n",
            "90           NEAR BAY     H  \n",
            "99         NEAR OCEAN     H  \n",
            "114          NEAR BAY     H  \n",
            "...               ...   ...  \n",
            "19625          INLAND     L  \n",
            "19640          INLAND     L  \n",
            "19649          INLAND     L  \n",
            "19670          INLAND     L  \n",
            "19742          INLAND     L  \n",
            "\n",
            "[860 rows x 11 columns]\n"
          ]
        }
      ],
      "source": [
        "# 選擇含有缺失值的全部資料\n",
        "data_with_na = df[df.isna().any(axis=1)]\n",
        "\n",
        "# 輸出結果\n",
        "print(data_with_na)"
      ]
    },
    {
      "cell_type": "markdown",
      "id": "26445227",
      "metadata": {
        "id": "26445227"
      },
      "source": [
        "從上面可以知道，所有有缺失值的資料筆數總共是 860 筆。  \n",
        "我們也可以只取某一欄位含有缺失值的資料出來觀察，接下來，請試著取出 ocean_proximity 為缺失值的資料，並存到另一變數當中。"
      ]
    },
    {
      "cell_type": "code",
      "execution_count": 7,
      "id": "debbc5b0",
      "metadata": {
        "colab": {
          "base_uri": "https://localhost:8080/"
        },
        "id": "debbc5b0",
        "outputId": "1cdbbe39-8e61-4512-efa9-c99c00a8a9be"
      },
      "outputs": [
        {
          "output_type": "stream",
          "name": "stdout",
          "text": [
            "       longitude  latitude  housing_median_age  total_rooms  total_bedrooms  \\\n",
            "162      -118.21     34.20                35.0       3646.0           552.0   \n",
            "165      -118.18     34.17                43.0       4269.0           591.0   \n",
            "166      -122.00     37.23                36.0       3191.0           430.0   \n",
            "237      -118.40     33.89                36.0       2127.0           314.0   \n",
            "278      -117.87     33.59                44.0       2499.0           396.0   \n",
            "...          ...       ...                 ...          ...             ...   \n",
            "17148    -118.25     34.01                28.0        481.0           136.0   \n",
            "17160    -118.24     33.95                37.0        441.0           125.0   \n",
            "18214    -117.71     33.61                26.0       3046.0           726.0   \n",
            "18491    -118.29     34.06                42.0       3894.0          2293.0   \n",
            "19547    -123.72     41.09                19.0       1970.0           431.0   \n",
            "\n",
            "       population  households  median_income  median_house_value  \\\n",
            "162        1409.0       534.0         6.3794            500001.0   \n",
            "165        1467.0       582.0         9.0702            500001.0   \n",
            "166        1234.0       440.0         9.0704            500001.0   \n",
            "237         807.0       306.0         8.1596            500001.0   \n",
            "278         910.0       374.0         6.6544            500001.0   \n",
            "...           ...         ...            ...                 ...   \n",
            "17148       596.0       128.0         1.2396             90300.0   \n",
            "17160       390.0        98.0         1.6513             90200.0   \n",
            "18214       888.0       663.0         2.6848             74100.0   \n",
            "18491      6846.0      2156.0         1.5553             70000.0   \n",
            "19547      1166.0       363.0         1.8208             50000.0   \n",
            "\n",
            "      ocean_proximity level  \n",
            "162               NaN     H  \n",
            "165               NaN     H  \n",
            "166               NaN     H  \n",
            "237               NaN     H  \n",
            "278               NaN     H  \n",
            "...               ...   ...  \n",
            "17148             NaN     L  \n",
            "17160             NaN     L  \n",
            "18214             NaN     L  \n",
            "18491             NaN     L  \n",
            "19547             NaN     L  \n",
            "\n",
            "[168 rows x 11 columns]\n"
          ]
        }
      ],
      "source": [
        "# 選擇 'ocean_proximity' 欄位為缺失值的資料\n",
        "data_with_missing_ocean_proximity = df[df['ocean_proximity'].isna()]\n",
        "\n",
        "# 輸出結果\n",
        "print(data_with_missing_ocean_proximity)\n"
      ]
    },
    {
      "cell_type": "markdown",
      "id": "7a2603c8",
      "metadata": {
        "id": "7a2603c8"
      },
      "source": [
        "觀察完有缺失值的資料後，我們要開始對缺失值進行處理。  \n",
        "首先，ocean_proximity 為類別型資料，請試著列出該欄位所有類別和類別的個數。"
      ]
    },
    {
      "cell_type": "code",
      "execution_count": 8,
      "id": "c34dddb0",
      "metadata": {
        "colab": {
          "base_uri": "https://localhost:8080/"
        },
        "id": "c34dddb0",
        "outputId": "013fed1a-b641-461e-d982-fa3f7e32e074"
      },
      "outputs": [
        {
          "output_type": "stream",
          "name": "stdout",
          "text": [
            "<1H OCEAN     8579\n",
            "INLAND        6261\n",
            "NEAR OCEAN    2533\n",
            "NEAR BAY      2197\n",
            "ISLAND           5\n",
            "Name: ocean_proximity, dtype: int64\n"
          ]
        }
      ],
      "source": [
        "# 列出 'ocean_proximity' 欄位的所有類別和類別個數\n",
        "ocean_proximity_counts = df['ocean_proximity'].value_counts()\n",
        "\n",
        "# 輸出結果\n",
        "print(ocean_proximity_counts)"
      ]
    },
    {
      "cell_type": "markdown",
      "id": "c911bbaf",
      "metadata": {
        "id": "c911bbaf"
      },
      "source": [
        "請試著用個數最多的類別填補 ocean_proximity 的缺失值"
      ]
    },
    {
      "cell_type": "code",
      "execution_count": 9,
      "id": "0743cbf4",
      "metadata": {
        "id": "0743cbf4"
      },
      "outputs": [],
      "source": [
        "# 找到個數最多的類別\n",
        "most_common_category = df['ocean_proximity'].value_counts().idxmax()\n",
        "\n",
        "# 使用個數最多的類別填補缺失值\n",
        "df['ocean_proximity'].fillna(most_common_category, inplace=True)\n"
      ]
    },
    {
      "cell_type": "markdown",
      "id": "3a4f77f7",
      "metadata": {
        "id": "3a4f77f7"
      },
      "source": [
        "剩下含有缺失值的 longitude、latitude 和 total_bedrooms 為數值型資料。  \n",
        "接著，請清除所有具缺失值的資料。"
      ]
    },
    {
      "cell_type": "code",
      "execution_count": 10,
      "id": "2df634a1",
      "metadata": {
        "colab": {
          "base_uri": "https://localhost:8080/"
        },
        "id": "2df634a1",
        "outputId": "766a4dc0-b16b-4005-8836-334fb71aa886"
      },
      "outputs": [
        {
          "output_type": "stream",
          "name": "stdout",
          "text": [
            "清除後的資料集大小： (19044, 11)\n"
          ]
        }
      ],
      "source": [
        "# 清除所有具有缺失值的資料\n",
        "df_cleaned = df.dropna()\n",
        "\n",
        "# 顯示清除後的資料集大小\n",
        "print(\"清除後的資料集大小：\", df_cleaned.shape)\n"
      ]
    },
    {
      "cell_type": "markdown",
      "id": "463d2bb2",
      "metadata": {
        "id": "463d2bb2"
      },
      "source": [
        "最後，再顯示一次所有資料的相關資資訊，確定是否還有缺失值。"
      ]
    },
    {
      "cell_type": "code",
      "execution_count": 11,
      "id": "4a74b13d",
      "metadata": {
        "colab": {
          "base_uri": "https://localhost:8080/"
        },
        "id": "4a74b13d",
        "outputId": "a3f70d25-70d6-477a-b0db-a8c3b9953506"
      },
      "outputs": [
        {
          "output_type": "stream",
          "name": "stdout",
          "text": [
            "<class 'pandas.core.frame.DataFrame'>\n",
            "Int64Index: 19044 entries, 0 to 19741\n",
            "Data columns (total 11 columns):\n",
            " #   Column              Non-Null Count  Dtype  \n",
            "---  ------              --------------  -----  \n",
            " 0   longitude           19044 non-null  float64\n",
            " 1   latitude            19044 non-null  float64\n",
            " 2   housing_median_age  19044 non-null  float64\n",
            " 3   total_rooms         19044 non-null  float64\n",
            " 4   total_bedrooms      19044 non-null  float64\n",
            " 5   population          19044 non-null  float64\n",
            " 6   households          19044 non-null  float64\n",
            " 7   median_income       19044 non-null  float64\n",
            " 8   median_house_value  19044 non-null  float64\n",
            " 9   ocean_proximity     19044 non-null  object \n",
            " 10  level               19044 non-null  object \n",
            "dtypes: float64(9), object(2)\n",
            "memory usage: 1.7+ MB\n",
            "None\n",
            "資料集中沒有缺失值。\n"
          ]
        }
      ],
      "source": [
        "# 顯示清除後的資料集相關資訊\n",
        "print(df_cleaned.info())\n",
        "\n",
        "# 檢查資料集是否還有缺失值\n",
        "has_missing_values = df_cleaned.isna().any().any()\n",
        "\n",
        "# 輸出結果\n",
        "if has_missing_values:\n",
        "    print(\"資料集中仍有缺失值。\")\n",
        "else:\n",
        "    print(\"資料集中沒有缺失值。\")\n"
      ]
    },
    {
      "cell_type": "markdown",
      "id": "3a7ee7e9",
      "metadata": {
        "id": "3a7ee7e9"
      },
      "source": [
        "使用 describe 顯示各個欄位的統計量"
      ]
    },
    {
      "cell_type": "code",
      "execution_count": 12,
      "id": "ac479a56",
      "metadata": {
        "colab": {
          "base_uri": "https://localhost:8080/"
        },
        "id": "ac479a56",
        "outputId": "535514fb-b34b-4b36-d6e7-630c36258ef7"
      },
      "outputs": [
        {
          "output_type": "stream",
          "name": "stdout",
          "text": [
            "          longitude      latitude  housing_median_age   total_rooms  \\\n",
            "count  19044.000000  19044.000000        19044.000000  19044.000000   \n",
            "mean    -119.567912     35.628830           28.619145   2640.316110   \n",
            "std        2.000390      2.133736           12.576401   2184.806006   \n",
            "min     -124.350000     32.540000            1.000000      2.000000   \n",
            "25%     -121.790000     33.930000           18.000000   1451.000000   \n",
            "50%     -118.490000     34.250000           29.000000   2126.500000   \n",
            "75%     -118.010000     37.710000           37.000000   3150.000000   \n",
            "max     -114.310000     41.950000           52.000000  37937.000000   \n",
            "\n",
            "       total_bedrooms    population    households  median_income  \\\n",
            "count    19044.000000  19044.000000  19044.000000   19044.000000   \n",
            "mean       538.885896   1427.430582    500.336746       3.870969   \n",
            "std        422.643879   1138.903177    383.448011       1.895007   \n",
            "min          1.000000      3.000000      1.000000       0.499900   \n",
            "25%        296.000000    786.750000    280.000000       2.564300   \n",
            "50%        435.000000   1167.000000    410.000000       3.534100   \n",
            "75%        648.000000   1726.000000    606.000000       4.738600   \n",
            "max       6445.000000  35682.000000   6082.000000      15.000100   \n",
            "\n",
            "       median_house_value  \n",
            "count        19044.000000  \n",
            "mean        207054.636106  \n",
            "std         115475.650978  \n",
            "min          14999.000000  \n",
            "25%         119800.000000  \n",
            "50%         180000.000000  \n",
            "75%         264900.000000  \n",
            "max         500001.000000  \n"
          ]
        }
      ],
      "source": [
        "# 使用 describe 顯示各個欄位的統計量\n",
        "description = df_cleaned.describe()\n",
        "\n",
        "# 輸出結果\n",
        "print(description)\n"
      ]
    },
    {
      "cell_type": "markdown",
      "id": "86b431f4",
      "metadata": {
        "id": "86b431f4"
      },
      "source": [
        "請依照 median_house_value 由大至小排序。"
      ]
    },
    {
      "cell_type": "code",
      "execution_count": 13,
      "id": "377c4d1e",
      "metadata": {
        "colab": {
          "base_uri": "https://localhost:8080/"
        },
        "id": "377c4d1e",
        "outputId": "ba1ced05-b528-424c-bca4-508475bec197"
      },
      "outputs": [
        {
          "output_type": "stream",
          "name": "stdout",
          "text": [
            "       longitude  latitude  housing_median_age  total_rooms  total_bedrooms  \\\n",
            "0        -118.38     33.80                36.0       4421.0           702.0   \n",
            "624      -118.48     34.05                36.0       2143.0           434.0   \n",
            "613      -122.14     37.45                52.0       3841.0           537.0   \n",
            "614      -122.15     37.46                52.0       1803.0           257.0   \n",
            "615      -122.15     37.46                39.0        906.0           109.0   \n",
            "...          ...       ...                 ...          ...             ...   \n",
            "19737    -117.16     32.71                52.0        845.0           451.0   \n",
            "19738    -118.33     34.15                39.0        493.0           168.0   \n",
            "19739    -123.17     40.31                36.0         98.0            28.0   \n",
            "19740    -117.02     36.40                19.0        619.0           239.0   \n",
            "19741    -117.86     34.24                52.0        803.0           267.0   \n",
            "\n",
            "       population  households  median_income  median_house_value  \\\n",
            "0          1433.0       624.0         8.0838            500001.0   \n",
            "624         751.0       396.0         6.7496            500001.0   \n",
            "613        1391.0       540.0         7.8647            500001.0   \n",
            "614         683.0       259.0        10.9508            500001.0   \n",
            "615         353.0       112.0        10.3942            500001.0   \n",
            "...           ...         ...            ...                 ...   \n",
            "19737      1230.0       375.0         1.0918             22500.0   \n",
            "19738       259.0       138.0         2.3667             17500.0   \n",
            "19739        18.0         8.0         0.5360             14999.0   \n",
            "19740       490.0       164.0         2.1000             14999.0   \n",
            "19741       628.0       225.0         4.1932             14999.0   \n",
            "\n",
            "      ocean_proximity level  \n",
            "0          NEAR OCEAN     H  \n",
            "624         <1H OCEAN     H  \n",
            "613          NEAR BAY     H  \n",
            "614          NEAR BAY     H  \n",
            "615          NEAR BAY     H  \n",
            "...               ...   ...  \n",
            "19737      NEAR OCEAN     L  \n",
            "19738       <1H OCEAN     L  \n",
            "19739          INLAND     L  \n",
            "19740          INLAND     L  \n",
            "19741          INLAND     L  \n",
            "\n",
            "[19044 rows x 11 columns]\n"
          ]
        }
      ],
      "source": [
        "# 依照 median_house_value 由大至小排序\n",
        "sorted_df = df_cleaned.sort_values(by='median_house_value', ascending=False)\n",
        "\n",
        "# 顯示排序後的結果\n",
        "print(sorted_df)\n"
      ]
    },
    {
      "cell_type": "markdown",
      "id": "e5854f0a",
      "metadata": {
        "id": "e5854f0a"
      },
      "source": [
        "請畫出 median_house_value 的直方圖 (hist)、機率密度統計圖 (kde)、盒型圖 (box)"
      ]
    },
    {
      "cell_type": "code",
      "execution_count": 14,
      "id": "b6eb6bd7",
      "metadata": {
        "colab": {
          "base_uri": "https://localhost:8080/",
          "height": 1000
        },
        "id": "b6eb6bd7",
        "outputId": "5145afbc-c360-4582-f144-e2bdf12daa65"
      },
      "outputs": [
        {
          "output_type": "display_data",
          "data": {
            "text/plain": [
              "<Figure size 1000x600 with 1 Axes>"
            ],
            "image/png": "[encoded data removed]"
          },
          "metadata": {}
        },
        {
          "output_type": "display_data",
          "data": {
            "text/plain": [
              "<Figure size 800x600 with 1 Axes>"
            ],
            "image/png": "[encoded data removed]"
          },
          "metadata": {}
        }
      ],
      "source": [
        "import matplotlib.pyplot as plt\n",
        "import seaborn as sns\n",
        "\n",
        "# 設置圖表風格為seaborn\n",
        "sns.set(style='whitegrid')\n",
        "\n",
        "# 繪製直方圖和KDE\n",
        "plt.figure(figsize=(10, 6))\n",
        "sns.histplot(df_cleaned['median_house_value'], kde=True, color='skyblue')\n",
        "plt.title('Median House Value - Histogram and KDE')\n",
        "plt.xlabel('Median House Value')\n",
        "plt.ylabel('Frequency')\n",
        "plt.show()\n",
        "\n",
        "# 繪製盒型圖\n",
        "plt.figure(figsize=(8, 6))\n",
        "sns.boxplot(x=df_cleaned['median_house_value'], color='lightgreen')\n",
        "plt.title('Median House Value - Boxplot')\n",
        "plt.xlabel('Median House Value')\n",
        "plt.show()\n"
      ]
    },
    {
      "cell_type": "code",
      "execution_count": null,
      "id": "80fa9e2c",
      "metadata": {
        "id": "80fa9e2c"
      },
      "outputs": [],
      "source": []
    },
    {
      "cell_type": "code",
      "execution_count": null,
      "id": "03d634bf",
      "metadata": {
        "id": "03d634bf"
      },
      "outputs": [],
      "source": []
    },
    {
      "cell_type": "markdown",
      "id": "1d08c958",
      "metadata": {
        "id": "1d08c958"
      },
      "source": [
        "請依照 median_house_value 的高低，  \n",
        "將低於(含) 25 百分位的分為 'L'；  \n",
        "25 百分位至 75 百分位的分為 'M'；  \n",
        "高於 (含) 75 百分位的分為 'H'，並存至 'level' 欄位中"
      ]
    },
    {
      "cell_type": "code",
      "execution_count": 15,
      "id": "6dc5e147",
      "metadata": {
        "colab": {
          "base_uri": "https://localhost:8080/"
        },
        "id": "6dc5e147",
        "outputId": "74a53f64-1197-423a-b8d4-619db25cb82f"
      },
      "outputs": [
        {
          "output_type": "stream",
          "name": "stdout",
          "text": [
            "   longitude  latitude  housing_median_age  total_rooms  total_bedrooms  \\\n",
            "0    -118.38     33.80                36.0       4421.0           702.0   \n",
            "1    -122.27     37.43                33.0       1601.0           223.0   \n",
            "2    -118.41     33.75                 4.0        311.0            51.0   \n",
            "3    -118.33     33.77                33.0       4244.0           595.0   \n",
            "4    -118.32     33.75                33.0       2996.0           398.0   \n",
            "\n",
            "   population  households  median_income  median_house_value ocean_proximity  \\\n",
            "0      1433.0       624.0         8.0838            500001.0      NEAR OCEAN   \n",
            "1       629.0       215.0        15.0001            500001.0      NEAR OCEAN   \n",
            "2       128.0        46.0         9.8091            500001.0      NEAR OCEAN   \n",
            "3      1534.0       557.0         9.8214            500001.0      NEAR OCEAN   \n",
            "4      1048.0       387.0         9.2670            500001.0      NEAR OCEAN   \n",
            "\n",
            "  level  \n",
            "0     H  \n",
            "1     H  \n",
            "2     H  \n",
            "3     H  \n",
            "4     H  \n"
          ]
        },
        {
          "output_type": "stream",
          "name": "stderr",
          "text": [
            "<ipython-input-15-e5576db1731f>:15: SettingWithCopyWarning: \n",
            "A value is trying to be set on a copy of a slice from a DataFrame.\n",
            "Try using .loc[row_indexer,col_indexer] = value instead\n",
            "\n",
            "See the caveats in the documentation: https://pandas.pydata.org/pandas-docs/stable/user_guide/indexing.html#returning-a-view-versus-a-copy\n",
            "  df_cleaned['level'] = df_cleaned['median_house_value'].apply(categorize_level)\n"
          ]
        }
      ],
      "source": [
        "# 計算 25 百分位和 75 百分位\n",
        "q25 = df_cleaned['median_house_value'].quantile(0.25)\n",
        "q75 = df_cleaned['median_house_value'].quantile(0.75)\n",
        "\n",
        "# 定義函式根據 median_house_value 的值來分類為 'L'、'M' 或 'H'\n",
        "def categorize_level(value):\n",
        "    if value <= q25:\n",
        "        return 'L'\n",
        "    elif value <= q75:\n",
        "        return 'M'\n",
        "    else:\n",
        "        return 'H'\n",
        "\n",
        "# 創建 'level' 欄位並根據 'median_house_value' 的值進行分類\n",
        "df_cleaned['level'] = df_cleaned['median_house_value'].apply(categorize_level)\n",
        "\n",
        "# 顯示處理後的資料集\n",
        "print(df_cleaned.head())"
      ]
    },
    {
      "cell_type": "markdown",
      "id": "ef2d3912",
      "metadata": {
        "id": "ef2d3912"
      },
      "source": [
        "請顯示 ocean_proximity 和 level 的統計量"
      ]
    },
    {
      "cell_type": "code",
      "execution_count": 16,
      "id": "3a66ae42",
      "metadata": {
        "colab": {
          "base_uri": "https://localhost:8080/"
        },
        "id": "3a66ae42",
        "outputId": "26850faa-ab32-4609-badd-82d950ec898e"
      },
      "outputs": [
        {
          "output_type": "stream",
          "name": "stdout",
          "text": [
            "ocean_proximity 的統計量：\n",
            " <1H OCEAN     8452\n",
            "INLAND        6020\n",
            "NEAR OCEAN    2453\n",
            "NEAR BAY      2114\n",
            "ISLAND           5\n",
            "Name: ocean_proximity, dtype: int64\n",
            "\n",
            "level 的統計量：\n",
            " M    9518\n",
            "L    4767\n",
            "H    4759\n",
            "Name: level, dtype: int64\n"
          ]
        }
      ],
      "source": [
        "# 顯示 'ocean_proximity' 欄位的統計量\n",
        "ocean_proximity_counts = df_cleaned['ocean_proximity'].value_counts()\n",
        "print(\"ocean_proximity 的統計量：\\n\", ocean_proximity_counts)\n",
        "\n",
        "# 顯示 'level' 欄位的統計量\n",
        "level_counts = df_cleaned['level'].value_counts()\n",
        "print(\"\\nlevel 的統計量：\\n\", level_counts)"
      ]
    },
    {
      "cell_type": "markdown",
      "id": "cc7c2456",
      "metadata": {
        "id": "cc7c2456"
      },
      "source": [
        "請使用 pivot_table ，設定 level 的各個類別為列、ocean_proximity 的各個類別為欄，  \n",
        "並且計算每個組別下 median_house_value 的平均。"
      ]
    },
    {
      "cell_type": "code",
      "execution_count": 17,
      "id": "69faee81",
      "metadata": {
        "colab": {
          "base_uri": "https://localhost:8080/"
        },
        "id": "69faee81",
        "outputId": "94b30ccc-d5bd-4955-e15b-e382ce4d2d1b"
      },
      "outputs": [
        {
          "output_type": "stream",
          "name": "stdout",
          "text": [
            "ocean_proximity      <1H OCEAN         INLAND    ISLAND       NEAR BAY  \\\n",
            "level                                                                    \n",
            "H                370497.014723  350705.697761  380440.0  381704.632955   \n",
            "L                100190.648567   82888.727556       NaN   94795.473251   \n",
            "M                191298.171206  163355.335434       NaN  190870.433905   \n",
            "\n",
            "ocean_proximity     NEAR OCEAN  \n",
            "level                           \n",
            "H                377976.590387  \n",
            "L                 93442.121212  \n",
            "M                188655.060034  \n"
          ]
        }
      ],
      "source": [
        "# 建立透視表，計算每個組別下 median_house_value 的平均\n",
        "pivot_table = pd.pivot_table(df_cleaned, values='median_house_value', index='level', columns='ocean_proximity', aggfunc='mean')\n",
        "\n",
        "# 顯示透視表\n",
        "print(pivot_table)\n"
      ]
    },
    {
      "cell_type": "markdown",
      "id": "b37fa3b2",
      "metadata": {
        "id": "b37fa3b2"
      },
      "source": [
        "上述發現， ISLAND 類別中有 NaN ，請列出所有 ocean_proximity 為 ISLAND 的資料觀察原因。"
      ]
    },
    {
      "cell_type": "code",
      "execution_count": 18,
      "id": "ea244739",
      "metadata": {
        "colab": {
          "base_uri": "https://localhost:8080/"
        },
        "id": "ea244739",
        "outputId": "7beeed3a-2382-4229-8c15-ef5413839558"
      },
      "outputs": [
        {
          "output_type": "stream",
          "name": "stdout",
          "text": [
            "Empty DataFrame\n",
            "Columns: [longitude, latitude, housing_median_age, total_rooms, total_bedrooms, population, households, median_income, median_house_value, ocean_proximity, level]\n",
            "Index: []\n"
          ]
        }
      ],
      "source": [
        "# 選取 ocean_proximity 為 'ISLAND' 且包含 NaN 值的資料\n",
        "island_with_nan = df_cleaned[(df_cleaned['ocean_proximity'] == 'ISLAND') & df_cleaned.isna().any(axis=1)]\n",
        "\n",
        "# 顯示選取的資料\n",
        "print(island_with_nan)\n"
      ]
    },
    {
      "cell_type": "markdown",
      "id": "9993ccef",
      "metadata": {
        "id": "9993ccef"
      },
      "source": [
        "請使用 groupby ，算出 level 欄位各個類別的 median_house_value 平均值"
      ]
    },
    {
      "cell_type": "code",
      "execution_count": 19,
      "id": "6efd50f8",
      "metadata": {
        "colab": {
          "base_uri": "https://localhost:8080/"
        },
        "id": "6efd50f8",
        "outputId": "e604fe5c-2d30-4cfa-ad37-732bf4dbf62d"
      },
      "outputs": [
        {
          "output_type": "stream",
          "name": "stdout",
          "text": [
            "level\n",
            "H    372969.445892\n",
            "L     86632.619467\n",
            "M    184409.455768\n",
            "Name: median_house_value, dtype: float64\n"
          ]
        }
      ],
      "source": [
        "# 使用 groupby 計算 level 欄位各個類別的 median_house_value 平均值\n",
        "level_median_house_value_mean = df_cleaned.groupby('level')['median_house_value'].mean()\n",
        "\n",
        "# 顯示結果\n",
        "print(level_median_house_value_mean)\n"
      ]
    },
    {
      "cell_type": "markdown",
      "id": "0e7fafae",
      "metadata": {
        "id": "0e7fafae"
      },
      "source": [
        "最後，請使用 left join 的方式，將  level 欄位各個類別的 median_house_value 併入到資料集當中。"
      ]
    },
    {
      "cell_type": "code",
      "execution_count": 20,
      "id": "99251339",
      "metadata": {
        "colab": {
          "base_uri": "https://localhost:8080/"
        },
        "id": "99251339",
        "outputId": "6e192b8c-f628-484b-e1d9-de09c6dd6336"
      },
      "outputs": [
        {
          "output_type": "stream",
          "name": "stdout",
          "text": [
            "   longitude  latitude  housing_median_age  total_rooms  total_bedrooms  \\\n",
            "0    -118.38     33.80                36.0       4421.0           702.0   \n",
            "1    -122.27     37.43                33.0       1601.0           223.0   \n",
            "2    -118.41     33.75                 4.0        311.0            51.0   \n",
            "3    -118.33     33.77                33.0       4244.0           595.0   \n",
            "4    -118.32     33.75                33.0       2996.0           398.0   \n",
            "\n",
            "   population  households  median_income  median_house_value ocean_proximity  \\\n",
            "0      1433.0       624.0         8.0838            500001.0      NEAR OCEAN   \n",
            "1       629.0       215.0        15.0001            500001.0      NEAR OCEAN   \n",
            "2       128.0        46.0         9.8091            500001.0      NEAR OCEAN   \n",
            "3      1534.0       557.0         9.8214            500001.0      NEAR OCEAN   \n",
            "4      1048.0       387.0         9.2670            500001.0      NEAR OCEAN   \n",
            "\n",
            "  level  median_house_value_mean  \n",
            "0     H            372969.445892  \n",
            "1     H            372969.445892  \n",
            "2     H            372969.445892  \n",
            "3     H            372969.445892  \n",
            "4     H            372969.445892  \n"
          ]
        }
      ],
      "source": [
        "# 使用 groupby 計算 level 欄位各個類別的 median_house_value 平均值\n",
        "level_median_house_value_mean = df_cleaned.groupby('level')['median_house_value'].mean()\n",
        "\n",
        "# 將計算得到的平均值併入到資料集中\n",
        "df_with_level_median_house_value = df_cleaned.merge(level_median_house_value_mean, left_on='level', right_index=True, suffixes=('', '_mean'))\n",
        "\n",
        "# 顯示結果\n",
        "print(df_with_level_median_house_value.head())\n"
      ]
    },
    {
      "cell_type": "code",
      "source": [],
      "metadata": {
        "id": "VonGJmS_WjyQ"
      },
      "id": "VonGJmS_WjyQ",
      "execution_count": null,
      "outputs": []
    }
  ],
  "metadata": {
    "kernelspec": {
      "display_name": "Python 3 (ipykernel)",
      "language": "python",
      "name": "python3"
    },
    "language_info": {
      "codemirror_mode": {
        "name": "ipython",
        "version": 3
      },
      "file_extension": ".py",
      "mimetype": "text/x-python",
      "name": "python",
      "nbconvert_exporter": "python",
      "pygments_lexer": "ipython3",
      "version": "3.7.12"
    },
    "colab": {
      "provenance": []
    }
  },
  "nbformat": 4,
  "nbformat_minor": 5
}